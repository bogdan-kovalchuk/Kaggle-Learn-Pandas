{
 "cells": [
  {
   "cell_type": "code",
   "execution_count": null,
   "id": "b5ee9b5c",
   "metadata": {},
   "outputs": [],
   "source": [
    "# 📦 Import pandas\n",
    "import pandas as pd"
   ]
  },
  {
   "cell_type": "code",
   "execution_count": null,
   "id": "c15fb486",
   "metadata": {},
   "outputs": [],
   "source": [
    "# 📥 Load the dataset\n",
    "reviews = pd.read_csv(\"../input/wine-reviews/winemag-data-130k-v2.csv\", index_col=0)"
   ]
  },
  {
   "cell_type": "code",
   "execution_count": null,
   "id": "49f554b7",
   "metadata": {},
   "outputs": [],
   "source": [
    "# ✏️ Rename column 'points' to 'score'\n",
    "reviews.rename(columns={'points': 'score'})"
   ]
  },
  {
   "cell_type": "code",
   "execution_count": null,
   "id": "e0a3c7c5",
   "metadata": {},
   "outputs": [],
   "source": [
    "# ✏️ Rename specific index values\n",
    "reviews.rename(index={0: 'firstEntry', 1: 'secondEntry'})"
   ]
  },
  {
   "cell_type": "code",
   "execution_count": null,
   "id": "ba88c1a7",
   "metadata": {},
   "outputs": [],
   "source": [
    "# ✏️ Rename axis labels (rows and columns)\n",
    "reviews.rename_axis(\"wines\", axis='rows').rename_axis(\"fields\", axis='columns')"
   ]
  },
  {
   "cell_type": "code",
   "execution_count": null,
   "id": "d90d1e38",
   "metadata": {},
   "outputs": [],
   "source": [
    "# 📥 Load YouTube datasets\n",
    "canadian_youtube = pd.read_csv(\"../input/youtube-new/CAvideos.csv\")\n",
    "british_youtube = pd.read_csv(\"../input/youtube-new/GBvideos.csv\")"
   ]
  },
  {
   "cell_type": "code",
   "execution_count": null,
   "id": "c04ebafb",
   "metadata": {},
   "outputs": [],
   "source": [
    "# ➕ Concatenate Canadian and British datasets\n",
    "pd.concat([canadian_youtube, british_youtube])"
   ]
  },
  {
   "cell_type": "code",
   "execution_count": null,
   "id": "f1e8a5b5",
   "metadata": {},
   "outputs": [],
   "source": [
    "# 🔗 Join on index: videos trending on same day with same title\n",
    "left = canadian_youtube.set_index(['title', 'trending_date'])\n",
    "right = british_youtube.set_index(['title', 'trending_date'])\n",
    "\n",
    "left.join(right, lsuffix='_CAN', rsuffix='_UK')"
   ]
  }
 ],
 "metadata": {
  "language": "python"
 },
 "nbformat": 4,
 "nbformat_minor": 5
}
