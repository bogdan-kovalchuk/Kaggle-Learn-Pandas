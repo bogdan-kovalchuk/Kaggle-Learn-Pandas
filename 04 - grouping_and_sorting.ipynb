{
 "cells": [
  {
   "cell_type": "code",
   "execution_count": null,
   "id": "8058478f",
   "metadata": {},
   "outputs": [],
   "source": [
    "# 📦 Import pandas\n",
    "import pandas as pd"
   ]
  },
  {
   "cell_type": "code",
   "execution_count": null,
   "id": "4ae9340b",
   "metadata": {},
   "outputs": [],
   "source": [
    "# 📥 Load the dataset\n",
    "reviews = pd.read_csv(\"../input/wine-reviews/winemag-data-130k-v2.csv\", index_col=0)"
   ]
  },
  {
   "cell_type": "code",
   "execution_count": null,
   "id": "f3f53bc0",
   "metadata": {},
   "outputs": [],
   "source": [
    "# 📊 Group by points and count reviews\n",
    "reviews.groupby('points').points.count()"
   ]
  },
  {
   "cell_type": "code",
   "execution_count": null,
   "id": "71d787d5",
   "metadata": {},
   "outputs": [],
   "source": [
    "# 💰 Minimum price per point group\n",
    "reviews.groupby('points').price.min()"
   ]
  },
  {
   "cell_type": "code",
   "execution_count": null,
   "id": "dd527da7",
   "metadata": {},
   "outputs": [],
   "source": [
    "# 🏷️ First wine title from each winery\n",
    "reviews.groupby('winery').apply(lambda df: df.title.iloc[0])"
   ]
  },
  {
   "cell_type": "code",
   "execution_count": null,
   "id": "1525c825",
   "metadata": {},
   "outputs": [],
   "source": [
    "# 🏆 Best wine by country and province\n",
    "reviews.groupby(['country', 'province']).apply(lambda df: df.loc[df.points.idxmax()])"
   ]
  },
  {
   "cell_type": "code",
   "execution_count": null,
   "id": "f977957b",
   "metadata": {},
   "outputs": [],
   "source": [
    "# 📈 Summary stats using agg()\n",
    "reviews.groupby('country').price.agg([len, min, max])"
   ]
  },
  {
   "cell_type": "code",
   "execution_count": null,
   "id": "ed05104b",
   "metadata": {},
   "outputs": [],
   "source": [
    "# 🔀 Multi-index example\n",
    "countries_reviewed = reviews.groupby(['country', 'province']).description.agg([len])\n",
    "countries_reviewed"
   ]
  },
  {
   "cell_type": "code",
   "execution_count": null,
   "id": "8f3c13df",
   "metadata": {},
   "outputs": [],
   "source": [
    "# 🧬 Check type of index\n",
    "mi = countries_reviewed.index\n",
    "type(mi)"
   ]
  },
  {
   "cell_type": "code",
   "execution_count": null,
   "id": "0ec54259",
   "metadata": {},
   "outputs": [],
   "source": [
    "# 🔁 Convert MultiIndex to regular index\n",
    "countries_reviewed = countries_reviewed.reset_index()\n",
    "countries_reviewed"
   ]
  },
  {
   "cell_type": "code",
   "execution_count": null,
   "id": "45a3d767",
   "metadata": {},
   "outputs": [],
   "source": [
    "# 🔽 Sort by value in ascending order\n",
    "countries_reviewed.sort_values(by='len')"
   ]
  },
  {
   "cell_type": "code",
   "execution_count": null,
   "id": "54b58ea8",
   "metadata": {},
   "outputs": [],
   "source": [
    "# 🔼 Sort by value in descending order\n",
    "countries_reviewed.sort_values(by='len', ascending=False)"
   ]
  },
  {
   "cell_type": "code",
   "execution_count": null,
   "id": "0ff22c0e",
   "metadata": {},
   "outputs": [],
   "source": [
    "# 📚 Sort by index\n",
    "countries_reviewed.sort_index()"
   ]
  },
  {
   "cell_type": "code",
   "execution_count": null,
   "id": "74a89ab6",
   "metadata": {},
   "outputs": [],
   "source": [
    "# 🔢 Sort by multiple columns\n",
    "countries_reviewed.sort_values(by=['country', 'len'])"
   ]
  }
 ],
 "metadata": {
  "language": "python"
 },
 "nbformat": 4,
 "nbformat_minor": 5
}
