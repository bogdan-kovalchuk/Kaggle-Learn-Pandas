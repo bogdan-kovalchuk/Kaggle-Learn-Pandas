{
 "cells": [
  {
   "cell_type": "code",
   "execution_count": null,
   "id": "a78d4de2",
   "metadata": {},
   "outputs": [],
   "source": [
    "# 📦 Import pandas\n",
    "import pandas as pd"
   ]
  },
  {
   "cell_type": "code",
   "execution_count": null,
   "id": "88ed6d7c",
   "metadata": {},
   "outputs": [],
   "source": [
    "# 📥 Load the dataset\n",
    "reviews = pd.read_csv(\"../input/wine-reviews/winemag-data-130k-v2.csv\", index_col=0)"
   ]
  },
  {
   "cell_type": "code",
   "execution_count": null,
   "id": "fb50b074",
   "metadata": {},
   "outputs": [],
   "source": [
    "# 🔹 Access a column as attribute\n",
    "reviews.country"
   ]
  },
  {
   "cell_type": "code",
   "execution_count": null,
   "id": "ae09ad96",
   "metadata": {},
   "outputs": [],
   "source": [
    "# 🔹 Access a column with brackets (safer for special characters)\n",
    "reviews['country']"
   ]
  },
  {
   "cell_type": "code",
   "execution_count": null,
   "id": "1cf5af75",
   "metadata": {},
   "outputs": [],
   "source": [
    "# 🔸 Access a single value (row 0, column 'country')\n",
    "reviews['country'][0]"
   ]
  },
  {
   "cell_type": "code",
   "execution_count": null,
   "id": "d1392184",
   "metadata": {},
   "outputs": [],
   "source": [
    "# 📌 Index-based selection with iloc\n",
    "reviews.iloc[0]"
   ]
  },
  {
   "cell_type": "code",
   "execution_count": null,
   "id": "00b8ab3a",
   "metadata": {},
   "outputs": [],
   "source": [
    "# 📌 Select first column with iloc\n",
    "reviews.iloc[:, 0]"
   ]
  },
  {
   "cell_type": "code",
   "execution_count": null,
   "id": "adc72709",
   "metadata": {},
   "outputs": [],
   "source": [
    "# 📌 First 3 rows of the first column\n",
    "reviews.iloc[:3, 0]"
   ]
  },
  {
   "cell_type": "code",
   "execution_count": null,
   "id": "b7b1bf17",
   "metadata": {},
   "outputs": [],
   "source": [
    "# 📌 Rows 1 to 2 of the first column\n",
    "reviews.iloc[1:3, 0]"
   ]
  },
  {
   "cell_type": "code",
   "execution_count": null,
   "id": "20b25547",
   "metadata": {},
   "outputs": [],
   "source": [
    "# 📌 Select specific rows by index list\n",
    "reviews.iloc[[0, 1, 2], 0]"
   ]
  },
  {
   "cell_type": "code",
   "execution_count": null,
   "id": "f591e878",
   "metadata": {},
   "outputs": [],
   "source": [
    "# 📌 Last 5 rows using negative indexing\n",
    "reviews.iloc[-5:]"
   ]
  },
  {
   "cell_type": "code",
   "execution_count": null,
   "id": "3af02513",
   "metadata": {},
   "outputs": [],
   "source": [
    "# 🏷️ Label-based selection with loc\n",
    "reviews.loc[0, 'country']"
   ]
  },
  {
   "cell_type": "code",
   "execution_count": null,
   "id": "2cc01ca0",
   "metadata": {},
   "outputs": [],
   "source": [
    "# 🏷️ Select multiple columns using loc\n",
    "reviews.loc[:, ['taster_name', 'taster_twitter_handle', 'points']]"
   ]
  },
  {
   "cell_type": "code",
   "execution_count": null,
   "id": "ad4abe9e",
   "metadata": {},
   "outputs": [],
   "source": [
    "# ⚠️ loc is inclusive, iloc is exclusive\n",
    "# loc[0:10] gives 11 rows, iloc[0:10] gives 10 rows"
   ]
  },
  {
   "cell_type": "code",
   "execution_count": null,
   "id": "63ba2d7d",
   "metadata": {},
   "outputs": [],
   "source": [
    "# 🧱 Change index to 'title'\n",
    "reviews.set_index(\"title\")"
   ]
  },
  {
   "cell_type": "code",
   "execution_count": null,
   "id": "e4ee2cd8",
   "metadata": {},
   "outputs": [],
   "source": [
    "# 🔍 Conditional selection: wines from Italy\n",
    "reviews.loc[reviews.country == 'Italy']"
   ]
  },
  {
   "cell_type": "code",
   "execution_count": null,
   "id": "f98acce4",
   "metadata": {},
   "outputs": [],
   "source": [
    "# 🔍 Wines from Italy with points >= 90\n",
    "reviews.loc[(reviews.country == 'Italy') & (reviews.points >= 90)]"
   ]
  },
  {
   "cell_type": "code",
   "execution_count": null,
   "id": "bd12d8a4",
   "metadata": {},
   "outputs": [],
   "source": [
    "# 🔍 Wines from Italy OR points >= 90\n",
    "reviews.loc[(reviews.country == 'Italy') | (reviews.points >= 90)]"
   ]
  },
  {
   "cell_type": "code",
   "execution_count": null,
   "id": "5e17788c",
   "metadata": {},
   "outputs": [],
   "source": [
    "# 🔍 Using isin for multiple values\n",
    "reviews.loc[reviews.country.isin(['Italy', 'France'])]"
   ]
  },
  {
   "cell_type": "code",
   "execution_count": null,
   "id": "1904ac18",
   "metadata": {},
   "outputs": [],
   "source": [
    "# ❌ Filter out rows where price is NaN\n",
    "reviews.loc[reviews.price.notnull()]"
   ]
  },
  {
   "cell_type": "code",
   "execution_count": null,
   "id": "a9833695",
   "metadata": {},
   "outputs": [],
   "source": [
    "# ✍️ Assign constant value to new column\n",
    "reviews['critic'] = 'everyone'\n",
    "reviews['critic']"
   ]
  },
  {
   "cell_type": "code",
   "execution_count": null,
   "id": "5535781b",
   "metadata": {},
   "outputs": [],
   "source": [
    "# ✍️ Assign a sequence in reverse\n",
    "reviews['index_backwards'] = range(len(reviews), 0, -1)\n",
    "reviews['index_backwards']"
   ]
  }
 ],
 "metadata": {
  "language": "python"
 },
 "nbformat": 4,
 "nbformat_minor": 5
}
