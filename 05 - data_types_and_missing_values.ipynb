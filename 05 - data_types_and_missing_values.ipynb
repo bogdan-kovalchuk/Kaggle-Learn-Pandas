{
 "cells": [
  {
   "cell_type": "code",
   "execution_count": null,
   "id": "01672221",
   "metadata": {},
   "outputs": [],
   "source": [
    "# 📦 Import pandas\n",
    "import pandas as pd"
   ]
  },
  {
   "cell_type": "code",
   "execution_count": null,
   "id": "0c6dea1f",
   "metadata": {},
   "outputs": [],
   "source": [
    "# 📥 Load the dataset\n",
    "reviews = pd.read_csv(\"../input/wine-reviews/winemag-data-130k-v2.csv\", index_col=0)"
   ]
  },
  {
   "cell_type": "code",
   "execution_count": null,
   "id": "1516ca56",
   "metadata": {},
   "outputs": [],
   "source": [
    "# 🔍 Check dtype of a single column\n",
    "reviews.price.dtype"
   ]
  },
  {
   "cell_type": "code",
   "execution_count": null,
   "id": "0d4e9751",
   "metadata": {},
   "outputs": [],
   "source": [
    "# 🔍 Check dtypes of all columns\n",
    "reviews.dtypes"
   ]
  },
  {
   "cell_type": "code",
   "execution_count": null,
   "id": "312e09da",
   "metadata": {},
   "outputs": [],
   "source": [
    "# 🔁 Convert data type of 'points' column\n",
    "reviews.points.astype('float64')"
   ]
  },
  {
   "cell_type": "code",
   "execution_count": null,
   "id": "caba9fb9",
   "metadata": {},
   "outputs": [],
   "source": [
    "# 🔍 Check dtype of the DataFrame index\n",
    "reviews.index.dtype"
   ]
  },
  {
   "cell_type": "code",
   "execution_count": null,
   "id": "6ba82717",
   "metadata": {},
   "outputs": [],
   "source": [
    "# ❓ Select rows with missing country values\n",
    "reviews[pd.isnull(reviews.country)]"
   ]
  },
  {
   "cell_type": "code",
   "execution_count": null,
   "id": "29ce823a",
   "metadata": {},
   "outputs": [],
   "source": [
    "# 🛠️ Fill missing region_2 values with 'Unknown'\n",
    "reviews.region_2.fillna(\"Unknown\")"
   ]
  },
  {
   "cell_type": "code",
   "execution_count": null,
   "id": "397fde5d",
   "metadata": {},
   "outputs": [],
   "source": [
    "# 🔄 Replace a specific non-null value\n",
    "reviews.taster_twitter_handle.replace(\"@kerinokeefe\", \"@kerino\")"
   ]
  }
 ],
 "metadata": {
  "language": "python"
 },
 "nbformat": 4,
 "nbformat_minor": 5
}
