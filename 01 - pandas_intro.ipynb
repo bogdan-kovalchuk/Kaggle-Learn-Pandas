{
 "cells": [
  {
   "cell_type": "code",
   "execution_count": null,
   "id": "889b3e94",
   "metadata": {},
   "outputs": [],
   "source": [
    "# 📦 Import the pandas library\n",
    "import pandas as pd"
   ]
  },
  {
   "cell_type": "code",
   "execution_count": null,
   "id": "84a72e4e",
   "metadata": {},
   "outputs": [],
   "source": [
    "# 📊 Create a simple DataFrame with numeric values\n",
    "df_numeric = pd.DataFrame({'Yes': [50, 21], 'No': [131, 2]})\n",
    "df_numeric"
   ]
  },
  {
   "cell_type": "code",
   "execution_count": null,
   "id": "e8a49916",
   "metadata": {},
   "outputs": [],
   "source": [
    "# 💬 Create a DataFrame with string values\n",
    "df_text = pd.DataFrame({\n",
    "    'Bob': ['I liked it.', 'It was awful.'],\n",
    "    'Sue': ['Pretty good.', 'Bland.']\n",
    "})\n",
    "df_text"
   ]
  },
  {
   "cell_type": "code",
   "execution_count": null,
   "id": "5745639f",
   "metadata": {},
   "outputs": [],
   "source": [
    "# 🏷️ Create a DataFrame with custom row labels (index)\n",
    "df_custom_index = pd.DataFrame({\n",
    "    'Bob': ['I liked it.', 'It was awful.'],\n",
    "    'Sue': ['Pretty good.', 'Bland.']\n",
    "}, index=['Product A', 'Product B'])\n",
    "df_custom_index"
   ]
  },
  {
   "cell_type": "code",
   "execution_count": null,
   "id": "13a7b24a",
   "metadata": {},
   "outputs": [],
   "source": [
    "# 📈 Create a Series (a single column of data)\n",
    "series_basic = pd.Series([1, 2, 3, 4, 5])\n",
    "series_basic"
   ]
  },
  {
   "cell_type": "code",
   "execution_count": null,
   "id": "3cec0dc0",
   "metadata": {},
   "outputs": [],
   "source": [
    "# 🗓️ Create a named Series with custom index (e.g. yearly sales)\n",
    "series_named = pd.Series(\n",
    "    [30, 35, 40],\n",
    "    index=['2015 Sales', '2016 Sales', '2017 Sales'],\n",
    "    name='Product A'\n",
    ")\n",
    "series_named"
   ]
  },
  {
   "cell_type": "code",
   "execution_count": null,
   "id": "e65b2544",
   "metadata": {},
   "outputs": [],
   "source": [
    "# 📥 Read a CSV file into a DataFrame\n",
    "wine_reviews = pd.read_csv(\"../input/wine-reviews/winemag-data-130k-v2.csv\")\n",
    "wine_reviews.shape"
   ]
  },
  {
   "cell_type": "code",
   "execution_count": null,
   "id": "31cce63d",
   "metadata": {},
   "outputs": [],
   "source": [
    "# 🔄 Re-read CSV using the first column as the index\n",
    "wine_reviews = pd.read_csv(\"../input/wine-reviews/winemag-data-130k-v2.csv\", index_col=0)"
   ]
  },
  {
   "cell_type": "code",
   "execution_count": null,
   "id": "a1db8703",
   "metadata": {},
   "outputs": [],
   "source": [
    "# 🧾 Display the first few rows of the dataset\n",
    "wine_reviews.head()"
   ]
  }
 ],
 "metadata": {
  "language": "python"
 },
 "nbformat": 4,
 "nbformat_minor": 5
}
