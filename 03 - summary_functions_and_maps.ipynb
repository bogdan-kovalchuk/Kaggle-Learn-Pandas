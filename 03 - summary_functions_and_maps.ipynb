{
 "cells": [
  {
   "cell_type": "code",
   "execution_count": null,
   "id": "1374cf8a",
   "metadata": {},
   "outputs": [],
   "source": [
    "# 📦 Import pandas\n",
    "import pandas as pd"
   ]
  },
  {
   "cell_type": "code",
   "execution_count": null,
   "id": "820f7244",
   "metadata": {},
   "outputs": [],
   "source": [
    "# 📥 Load the dataset\n",
    "reviews = pd.read_csv(\"../input/wine-reviews/winemag-data-130k-v2.csv\", index_col=0)"
   ]
  },
  {
   "cell_type": "code",
   "execution_count": null,
   "id": "11636ba3",
   "metadata": {},
   "outputs": [],
   "source": [
    "# 📊 Summary statistics for numerical column\n",
    "reviews.points.describe()"
   ]
  },
  {
   "cell_type": "code",
   "execution_count": null,
   "id": "b57abc15",
   "metadata": {},
   "outputs": [],
   "source": [
    "# 📊 Summary statistics for string column\n",
    "reviews.taster_name.describe()"
   ]
  },
  {
   "cell_type": "code",
   "execution_count": null,
   "id": "74a0eefe",
   "metadata": {},
   "outputs": [],
   "source": [
    "# ➗ Mean of 'points' column\n",
    "reviews.points.mean()"
   ]
  },
  {
   "cell_type": "code",
   "execution_count": null,
   "id": "ffd4150c",
   "metadata": {},
   "outputs": [],
   "source": [
    "# 🔢 Unique values in a column\n",
    "reviews.taster_name.unique()"
   ]
  },
  {
   "cell_type": "code",
   "execution_count": null,
   "id": "a456e09c",
   "metadata": {},
   "outputs": [],
   "source": [
    "# 🔢 Count of each unique value\n",
    "reviews.taster_name.value_counts()"
   ]
  },
  {
   "cell_type": "code",
   "execution_count": null,
   "id": "b9fcbacf",
   "metadata": {},
   "outputs": [],
   "source": [
    "# 🔁 map(): re-mean scores\n",
    "review_points_mean = reviews.points.mean()\n",
    "reviews.points.map(lambda p: p - review_points_mean)"
   ]
  },
  {
   "cell_type": "code",
   "execution_count": null,
   "id": "fbdffc03",
   "metadata": {},
   "outputs": [],
   "source": [
    "# 🔁 apply(): subtract mean from points in each row\n",
    "def remean_points(row):\n",
    "    row.points = row.points - review_points_mean\n",
    "    return row\n",
    "\n",
    "reviews.apply(remean_points, axis='columns')"
   ]
  },
  {
   "cell_type": "code",
   "execution_count": null,
   "id": "a28d066a",
   "metadata": {},
   "outputs": [],
   "source": [
    "# 🧪 Original data remains unchanged\n",
    "reviews.head(1)"
   ]
  },
  {
   "cell_type": "code",
   "execution_count": null,
   "id": "e144ee58",
   "metadata": {},
   "outputs": [],
   "source": [
    "# ⚡ Faster vectorized re-mean\n",
    "reviews.points - review_points_mean"
   ]
  },
  {
   "cell_type": "code",
   "execution_count": null,
   "id": "d4b27c5a",
   "metadata": {},
   "outputs": [],
   "source": [
    "# ➕ Combine columns with string operations\n",
    "reviews.country + \" - \" + reviews.region_1"
   ]
  }
 ],
 "metadata": {
  "language": "python"
 },
 "nbformat": 4,
 "nbformat_minor": 5
}
